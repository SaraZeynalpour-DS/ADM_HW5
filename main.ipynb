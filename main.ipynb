{
 "cells": [
  {
   "cell_type": "markdown",
   "id": "3139fbbb",
   "metadata": {},
   "source": [
    "## 1. Data"
   ]
  },
  {
   "cell_type": "code",
   "execution_count": 1,
   "id": "e35a8826",
   "metadata": {},
   "outputs": [],
   "source": [
    "# Import the libraries\n",
    "import pandas as pd\n",
    "import networkx as nx\n",
    "import numpy as np\n",
    "import matplotlib.pyplot as plt\n",
    "from tqdm import tqdm\n",
    "import os"
   ]
  },
  {
   "cell_type": "code",
   "execution_count": 174,
   "id": "7e058500",
   "metadata": {},
   "outputs": [],
   "source": [
    "# Read the hero-network.csv data\n",
    "heroNetwork = pd.read_csv(os.getcwd()+\"/Data/hero-network.csv\")"
   ]
  },
  {
   "cell_type": "code",
   "execution_count": 151,
   "id": "0135475c",
   "metadata": {},
   "outputs": [
    {
     "data": {
      "text/plain": [
       "574467"
      ]
     },
     "execution_count": 151,
     "metadata": {},
     "output_type": "execute_result"
    }
   ],
   "source": [
    "# lenght of the data\n",
    "len(heroNetwork)"
   ]
  },
  {
   "cell_type": "markdown",
   "id": "331c3bdf",
   "metadata": {},
   "source": [
    "As we can see, the lenght of the heroNetwork data is 574467. This data shows the edges between heroes that appear in the same comic. "
   ]
  },
  {
   "cell_type": "code",
   "execution_count": 152,
   "id": "0a197ded",
   "metadata": {},
   "outputs": [
    {
     "name": "stdout",
     "output_type": "stream",
     "text": [
      "<class 'pandas.core.frame.DataFrame'>\n",
      "RangeIndex: 574467 entries, 0 to 574466\n",
      "Data columns (total 2 columns):\n",
      " #   Column  Non-Null Count   Dtype \n",
      "---  ------  --------------   ----- \n",
      " 0   hero1   574467 non-null  object\n",
      " 1   hero2   574467 non-null  object\n",
      "dtypes: object(2)\n",
      "memory usage: 8.8+ MB\n"
     ]
    }
   ],
   "source": [
    "heroNetwork.info()"
   ]
  },
  {
   "cell_type": "code",
   "execution_count": 175,
   "id": "1c2b96a0",
   "metadata": {},
   "outputs": [],
   "source": [
    "# Convert our heroNetwork to a dataframe\n",
    "heroNetworkDf = pd.DataFrame(heroNetwork)"
   ]
  },
  {
   "cell_type": "code",
   "execution_count": 154,
   "id": "6e5cd310",
   "metadata": {
    "scrolled": true
   },
   "outputs": [
    {
     "data": {
      "text/html": [
       "<div>\n",
       "<style scoped>\n",
       "    .dataframe tbody tr th:only-of-type {\n",
       "        vertical-align: middle;\n",
       "    }\n",
       "\n",
       "    .dataframe tbody tr th {\n",
       "        vertical-align: top;\n",
       "    }\n",
       "\n",
       "    .dataframe thead th {\n",
       "        text-align: right;\n",
       "    }\n",
       "</style>\n",
       "<table border=\"1\" class=\"dataframe\">\n",
       "  <thead>\n",
       "    <tr style=\"text-align: right;\">\n",
       "      <th></th>\n",
       "      <th>hero1</th>\n",
       "      <th>hero2</th>\n",
       "    </tr>\n",
       "  </thead>\n",
       "  <tbody>\n",
       "    <tr>\n",
       "      <th>0</th>\n",
       "      <td>LITTLE, ABNER</td>\n",
       "      <td>PRINCESS ZANDA</td>\n",
       "    </tr>\n",
       "    <tr>\n",
       "      <th>1</th>\n",
       "      <td>LITTLE, ABNER</td>\n",
       "      <td>BLACK PANTHER/T'CHAL</td>\n",
       "    </tr>\n",
       "    <tr>\n",
       "      <th>2</th>\n",
       "      <td>BLACK PANTHER/T'CHAL</td>\n",
       "      <td>PRINCESS ZANDA</td>\n",
       "    </tr>\n",
       "    <tr>\n",
       "      <th>3</th>\n",
       "      <td>LITTLE, ABNER</td>\n",
       "      <td>PRINCESS ZANDA</td>\n",
       "    </tr>\n",
       "    <tr>\n",
       "      <th>4</th>\n",
       "      <td>LITTLE, ABNER</td>\n",
       "      <td>BLACK PANTHER/T'CHAL</td>\n",
       "    </tr>\n",
       "    <tr>\n",
       "      <th>...</th>\n",
       "      <td>...</td>\n",
       "      <td>...</td>\n",
       "    </tr>\n",
       "    <tr>\n",
       "      <th>574462</th>\n",
       "      <td>COLOSSUS II/PETER RA</td>\n",
       "      <td>CALLISTO</td>\n",
       "    </tr>\n",
       "    <tr>\n",
       "      <th>574463</th>\n",
       "      <td>CALLISTO</td>\n",
       "      <td>ROGUE /</td>\n",
       "    </tr>\n",
       "    <tr>\n",
       "      <th>574464</th>\n",
       "      <td>CALLISTO</td>\n",
       "      <td>CALIBAN/</td>\n",
       "    </tr>\n",
       "    <tr>\n",
       "      <th>574465</th>\n",
       "      <td>CALIBAN/</td>\n",
       "      <td>ROGUE /</td>\n",
       "    </tr>\n",
       "    <tr>\n",
       "      <th>574466</th>\n",
       "      <td>HULK/DR. ROBERT BRUC</td>\n",
       "      <td>MARKS, DR. SHIELA</td>\n",
       "    </tr>\n",
       "  </tbody>\n",
       "</table>\n",
       "<p>574467 rows × 2 columns</p>\n",
       "</div>"
      ],
      "text/plain": [
       "                       hero1                 hero2\n",
       "0              LITTLE, ABNER        PRINCESS ZANDA\n",
       "1              LITTLE, ABNER  BLACK PANTHER/T'CHAL\n",
       "2       BLACK PANTHER/T'CHAL        PRINCESS ZANDA\n",
       "3              LITTLE, ABNER        PRINCESS ZANDA\n",
       "4              LITTLE, ABNER  BLACK PANTHER/T'CHAL\n",
       "...                      ...                   ...\n",
       "574462  COLOSSUS II/PETER RA              CALLISTO\n",
       "574463              CALLISTO               ROGUE /\n",
       "574464              CALLISTO              CALIBAN/\n",
       "574465              CALIBAN/               ROGUE /\n",
       "574466  HULK/DR. ROBERT BRUC     MARKS, DR. SHIELA\n",
       "\n",
       "[574467 rows x 2 columns]"
      ]
     },
     "execution_count": 154,
     "metadata": {},
     "output_type": "execute_result"
    }
   ],
   "source": [
    "heroNetworkDf"
   ]
  },
  {
   "cell_type": "code",
   "execution_count": 179,
   "id": "4ef3656d",
   "metadata": {},
   "outputs": [],
   "source": [
    "# Read the edges.csv data\n",
    "edges = pd.read_csv(os.getcwd()+\"/Data/edges.csv\")"
   ]
  },
  {
   "cell_type": "code",
   "execution_count": 180,
   "id": "0b511cca",
   "metadata": {},
   "outputs": [],
   "source": [
    "# Convert the edges data to dataframe\n",
    "edgesDf = pd.DataFrame(edges)"
   ]
  },
  {
   "cell_type": "code",
   "execution_count": 157,
   "id": "4bc14ff8",
   "metadata": {},
   "outputs": [
    {
     "data": {
      "text/html": [
       "<div>\n",
       "<style scoped>\n",
       "    .dataframe tbody tr th:only-of-type {\n",
       "        vertical-align: middle;\n",
       "    }\n",
       "\n",
       "    .dataframe tbody tr th {\n",
       "        vertical-align: top;\n",
       "    }\n",
       "\n",
       "    .dataframe thead th {\n",
       "        text-align: right;\n",
       "    }\n",
       "</style>\n",
       "<table border=\"1\" class=\"dataframe\">\n",
       "  <thead>\n",
       "    <tr style=\"text-align: right;\">\n",
       "      <th></th>\n",
       "      <th>hero</th>\n",
       "      <th>comic</th>\n",
       "    </tr>\n",
       "  </thead>\n",
       "  <tbody>\n",
       "    <tr>\n",
       "      <th>0</th>\n",
       "      <td>24-HOUR MAN/EMMANUEL</td>\n",
       "      <td>AA2 35</td>\n",
       "    </tr>\n",
       "    <tr>\n",
       "      <th>1</th>\n",
       "      <td>3-D MAN/CHARLES CHAN</td>\n",
       "      <td>AVF 4</td>\n",
       "    </tr>\n",
       "    <tr>\n",
       "      <th>2</th>\n",
       "      <td>3-D MAN/CHARLES CHAN</td>\n",
       "      <td>AVF 5</td>\n",
       "    </tr>\n",
       "    <tr>\n",
       "      <th>3</th>\n",
       "      <td>3-D MAN/CHARLES CHAN</td>\n",
       "      <td>COC 1</td>\n",
       "    </tr>\n",
       "    <tr>\n",
       "      <th>4</th>\n",
       "      <td>3-D MAN/CHARLES CHAN</td>\n",
       "      <td>H2 251</td>\n",
       "    </tr>\n",
       "    <tr>\n",
       "      <th>...</th>\n",
       "      <td>...</td>\n",
       "      <td>...</td>\n",
       "    </tr>\n",
       "    <tr>\n",
       "      <th>96099</th>\n",
       "      <td>ZZZAX</td>\n",
       "      <td>H2 326</td>\n",
       "    </tr>\n",
       "    <tr>\n",
       "      <th>96100</th>\n",
       "      <td>ZZZAX</td>\n",
       "      <td>H2 327</td>\n",
       "    </tr>\n",
       "    <tr>\n",
       "      <th>96101</th>\n",
       "      <td>ZZZAX</td>\n",
       "      <td>M/CP 8/4</td>\n",
       "    </tr>\n",
       "    <tr>\n",
       "      <th>96102</th>\n",
       "      <td>ZZZAX</td>\n",
       "      <td>PM 47</td>\n",
       "    </tr>\n",
       "    <tr>\n",
       "      <th>96103</th>\n",
       "      <td>ZZZAX</td>\n",
       "      <td>WCA2 12</td>\n",
       "    </tr>\n",
       "  </tbody>\n",
       "</table>\n",
       "<p>96104 rows × 2 columns</p>\n",
       "</div>"
      ],
      "text/plain": [
       "                       hero     comic\n",
       "0      24-HOUR MAN/EMMANUEL    AA2 35\n",
       "1      3-D MAN/CHARLES CHAN     AVF 4\n",
       "2      3-D MAN/CHARLES CHAN     AVF 5\n",
       "3      3-D MAN/CHARLES CHAN     COC 1\n",
       "4      3-D MAN/CHARLES CHAN    H2 251\n",
       "...                     ...       ...\n",
       "96099                 ZZZAX    H2 326\n",
       "96100                 ZZZAX    H2 327\n",
       "96101                 ZZZAX  M/CP 8/4\n",
       "96102                 ZZZAX     PM 47\n",
       "96103                 ZZZAX   WCA2 12\n",
       "\n",
       "[96104 rows x 2 columns]"
      ]
     },
     "execution_count": 157,
     "metadata": {},
     "output_type": "execute_result"
    }
   ],
   "source": [
    "edgesDf"
   ]
  },
  {
   "cell_type": "markdown",
   "id": "4021e26f",
   "metadata": {},
   "source": [
    "### Data Preprocessing"
   ]
  },
  {
   "cell_type": "markdown",
   "id": "f687321a",
   "metadata": {},
   "source": [
    "#### 1. Some of the heroes' names in 'hero-network.csv' are not found in 'edges.csv'. This inconsistency will be solved in the bellow codes:"
   ]
  },
  {
   "cell_type": "code",
   "execution_count": 176,
   "id": "5e8f6013",
   "metadata": {},
   "outputs": [],
   "source": [
    "# Write a function to return the differences between two files\n",
    "def compare(string1, string2):\n",
    "    temp= []\n",
    "    for i in string1:\n",
    "        if i not in string2:\n",
    "            temp.append(i)\n",
    "    return temp"
   ]
  },
  {
   "cell_type": "code",
   "execution_count": 181,
   "id": "faf24276",
   "metadata": {
    "scrolled": false
   },
   "outputs": [
    {
     "data": {
      "text/plain": [
       "['LEVIATHAN II/EDWARD ',\n",
       " 'MORNING STAR/ZVEZDA ',\n",
       " 'PAINTER/WILHELM VON ',\n",
       " 'LIVING LASER/ARTHUR ',\n",
       " 'SNOWBIRD/NARYA/ANNE ',\n",
       " 'BEETLE/ABNER RONALD ',\n",
       " 'VISION ',\n",
       " 'WOLVERINE/LOGAN ',\n",
       " 'BRADDOCK, JAMES JR. ',\n",
       " 'HOBGOBLIN III/LEFTY ',\n",
       " 'GREEN GOBLIN/NORMAN ',\n",
       " 'QUASAR DOPPELGANGER ',\n",
       " 'MISSING LINK II/RAY ',\n",
       " 'WATSON-PARKER, MARY ',\n",
       " 'DR. SPECTRUM/JOSEPH ',\n",
       " 'MANN, DR. J. VERNON ',\n",
       " 'PESTILENCE | MUTANT ',\n",
       " 'WASP/JANET VAN DYNE ',\n",
       " 'SPAR, DR. KATHERINE ',\n",
       " 'DEATH STING/MIRANDA ',\n",
       " 'HAVOK/ALEX SUMMERS ',\n",
       " 'POWERSURGE/ILLARION ',\n",
       " 'MODULAR MAN/STEPHEN ',\n",
       " 'ERISHKIGEL II/HOLLY ',\n",
       " 'NORTHSTAR/JEAN-PAUL ',\n",
       " 'GRIZZLY II/THEODORE ',\n",
       " 'GAMBIT DOPPELGANGER ',\n",
       " 'FOOLKILLER III/KURT ',\n",
       " 'COPPERHEAD/LAWRENCE ',\n",
       " 'WILD CHILD | MUTANT ',\n",
       " 'ROSS, GEN. THADDEUS ',\n",
       " 'AUGUST PERSONAGE IN ',\n",
       " 'SHOCKWAVE/LANCASTER ',\n",
       " 'BLACK BOLT | MUTANT ',\n",
       " 'FURY, NICK | MUTANT ',\n",
       " 'WORTHINGTON, WARREN ',\n",
       " 'MORBIUS/DR. MICHAEL ',\n",
       " 'MADDICKS, PROFESSOR ',\n",
       " 'RIGHT-WINGER/JEROME ',\n",
       " 'BLACK AVENGER/JERRY ',\n",
       " 'TRITON DOPPELGANGER ',\n",
       " 'WAGNER, ERNIE WHACK ',\n",
       " 'DIAMOND LIL/LILLIAN ',\n",
       " 'BLACK WIDOW/NATASHA ',\n",
       " 'CITIZEN V II/HELMUT ',\n",
       " 'SILVERCLAW/LA GARRA ',\n",
       " 'RICHARDS, FRANKLINK ',\n",
       " 'BLOODSTORM | MUTANT ',\n",
       " 'ROOSEVELT, FRANKLIN ',\n",
       " 'STUNT-MASTER/GEORGE ',\n",
       " 'JAMESON, COL. JOHN ',\n",
       " 'PINKERTON, PERCIVAL ',\n",
       " 'APOCALYPSE | MUTANT ',\n",
       " 'RADIOACTIVE MAN/DR. ',\n",
       " 'CORRIGAN, ARCHIBALD ',\n",
       " 'WARRIOR WOMAN/JULIA ',\n",
       " 'BLADE',\n",
       " 'DR. DOOM/VICTOR VON ',\n",
       " 'LECLAIRE, PROFESSOR ',\n",
       " 'GARDENER/ORD ZYONYZ ',\n",
       " 'DR. SPECTRUM II/DR. ',\n",
       " 'DR. STRANGE/STEPHEN ',\n",
       " 'TUMBLER/JOHN ROBERT ',\n",
       " 'JARVIS, EDWIN ',\n",
       " 'FIREWALL/THEARY/MIN ',\n",
       " 'BLACK KNIGHT V/DANE ',\n",
       " 'RINGER/ANTHONY TONY ',\n",
       " 'IRON MAN/TONY STARK ',\n",
       " 'BRUTE/REED RICHARDS ',\n",
       " 'SPOOR/ANDREW HAMISH ',\n",
       " 'MACTAGGART, MOIRA | ',\n",
       " 'PROFESSOR ANGST/DR. ',\n",
       " 'CEREBRO MARK XIII | ',\n",
       " 'GAMBIT/REMY LEBEAU ',\n",
       " 'SENSATIONAL HYDRA/A ',\n",
       " 'GYRICH, HENRY PETER ',\n",
       " 'ARMBRUSTER, COLONEL ',\n",
       " 'STARSHINE II/BRANDY ',\n",
       " 'MAGNETO/MAGNUS/ERIC ',\n",
       " 'PILEDRIVER II/BRIAN ',\n",
       " 'FIREFALL III/ARCHIE ',\n",
       " 'PROFESSOR X | EARTH ',\n",
       " 'ANGELOPOULOS, ANGEL ',\n",
       " 'DARKOVER, PROFESSOR ',\n",
       " \"COAL TIGER/T'CHALLA \",\n",
       " 'CHI DEMON/PROFESSOR ',\n",
       " 'ROCKET RACER/ROBERT ',\n",
       " 'JEFFRIES, MAGGIE ',\n",
       " 'PROFESSOR X/CHARLES ',\n",
       " 'AGAMEMNON II/ANDREI ',\n",
       " 'AURORA/JEANNE-MARIE ',\n",
       " 'STRONG GUY | MUTANT ',\n",
       " 'NALES, DET. REBECCA ',\n",
       " 'APE MAN/GORDON MONK ',\n",
       " 'MANIKIN/DR. WHITMAN ',\n",
       " 'RAPTOR II/PROFESSOR ',\n",
       " 'ZEMO/BARON HEINRICH ',\n",
       " 'MARTINELLI, VINCENT ',\n",
       " 'BLACK KNIGHT II/SIR ',\n",
       " 'MARROW/SARAH ',\n",
       " 'ANDROMEDA/ANDROMEDA ',\n",
       " 'BUCHETTO, SALVATORE ',\n",
       " 'ROSSI, COL. MICHAEL ',\n",
       " 'GREY, JEAN | MUTANT ',\n",
       " 'APOCALYPSE/EN SABAH ',\n",
       " 'KLIGGER/SEN. EUGENE ',\n",
       " 'STINGRAY/DR. WALTER ',\n",
       " 'DOC SAMSON | MUTANT ',\n",
       " 'X-MAN/NATHAN GREY ',\n",
       " 'JACK OF HEARTS/JACK ',\n",
       " 'RITTER, DEBORAH ',\n",
       " 'ICEMAN/ROBERT BOBBY ',\n",
       " 'SHORT CIRCUIT/HENRY ',\n",
       " 'PURPLE MAN/ZEBEDIAH ',\n",
       " 'SABRETOOTH | MUTANT ',\n",
       " 'JUGGERNAUT | MUTANT ',\n",
       " 'SABRE',\n",
       " 'FURY, COL. NICHOLAS ',\n",
       " 'COY, GENERAL NGUYEN ',\n",
       " 'BLACK TALON/DESMOND ',\n",
       " 'RED SKULL II/ALBERT ',\n",
       " 'SHADOWCAT/KATHERINE ',\n",
       " 'GHOST RIDER III/DAN ',\n",
       " 'RAYMOND, HENRY/ADAM ',\n",
       " 'EDWARDS, MARTIN/DR. ',\n",
       " 'BATTLEAXE II/JEROME ',\n",
       " 'UNION JACK II/BRIAN ',\n",
       " 'MAN-SPIDER | MUTANT ',\n",
       " 'VISION DOPPELGANGER ',\n",
       " 'WIND-WARRIOR/PAMELA ',\n",
       " 'OUTRIDER/OCLIN UWIR ',\n",
       " 'DEVERAUX, INSPECTOR ',\n",
       " 'CITYDWELLER/JERRY | ',\n",
       " 'SPIDER-MAN/PETER PAR',\n",
       " 'MR. SINISTER/NATHAN ',\n",
       " 'MR. JUSTICE/TIMOTHY ',\n",
       " 'BLACK FOX/ROBERT W. ',\n",
       " 'UNION JACK III/JOEY ',\n",
       " 'WAR/ABRAHAM LINCOLN ',\n",
       " 'INVISIBLE WOMAN/SUE ',\n",
       " 'SCARLET WITCH/WANDA ',\n",
       " 'KILLER SHRIKE/SIMON ',\n",
       " 'GRIMM, BEN | MUTANT ',\n",
       " 'KILGREW, BASIL BETA ']"
      ]
     },
     "execution_count": 181,
     "metadata": {},
     "output_type": "execute_result"
    }
   ],
   "source": [
    "# Find the differnces between to files that have to modify\n",
    "merge = heroNetworkDf.hero1.tolist() + heroNetworkDf.hero2.tolist()\n",
    "unique = list(set(merge))\n",
    "differ = compare(unique, list(edgesDf.hero))\n",
    "differ"
   ]
  },
  {
   "cell_type": "code",
   "execution_count": 182,
   "id": "d4791064",
   "metadata": {},
   "outputs": [
    {
     "data": {
      "text/plain": [
       "['LEVIATHAN II/EDWARD ',\n",
       " 'MORNING STAR/ZVEZDA ',\n",
       " 'PAINTER/WILHELM VON ',\n",
       " 'LIVING LASER/ARTHUR ',\n",
       " 'SNOWBIRD/NARYA/ANNE ',\n",
       " 'BEETLE/ABNER RONALD ',\n",
       " 'VISION ',\n",
       " 'WOLVERINE/LOGAN ',\n",
       " 'BRADDOCK, JAMES JR. ',\n",
       " 'HOBGOBLIN III/LEFTY ',\n",
       " 'GREEN GOBLIN/NORMAN ',\n",
       " 'QUASAR DOPPELGANGER ',\n",
       " 'MISSING LINK II/RAY ',\n",
       " 'WATSON-PARKER, MARY ',\n",
       " 'DR. SPECTRUM/JOSEPH ',\n",
       " 'MANN, DR. J. VERNON ',\n",
       " 'PESTILENCE | MUTANT ',\n",
       " 'WASP/JANET VAN DYNE ',\n",
       " 'SPAR, DR. KATHERINE ',\n",
       " 'DEATH STING/MIRANDA ',\n",
       " 'HAVOK/ALEX SUMMERS ',\n",
       " 'POWERSURGE/ILLARION ',\n",
       " 'MODULAR MAN/STEPHEN ',\n",
       " 'ERISHKIGEL II/HOLLY ',\n",
       " 'NORTHSTAR/JEAN-PAUL ',\n",
       " 'GRIZZLY II/THEODORE ',\n",
       " 'GAMBIT DOPPELGANGER ',\n",
       " 'FOOLKILLER III/KURT ',\n",
       " 'COPPERHEAD/LAWRENCE ',\n",
       " 'WILD CHILD | MUTANT ',\n",
       " 'ROSS, GEN. THADDEUS ',\n",
       " 'AUGUST PERSONAGE IN ',\n",
       " 'SHOCKWAVE/LANCASTER ',\n",
       " 'BLACK BOLT | MUTANT ',\n",
       " 'FURY, NICK | MUTANT ',\n",
       " 'WORTHINGTON, WARREN ',\n",
       " 'MORBIUS/DR. MICHAEL ',\n",
       " 'MADDICKS, PROFESSOR ',\n",
       " 'RIGHT-WINGER/JEROME ',\n",
       " 'BLACK AVENGER/JERRY ',\n",
       " 'TRITON DOPPELGANGER ',\n",
       " 'WAGNER, ERNIE WHACK ',\n",
       " 'DIAMOND LIL/LILLIAN ',\n",
       " 'BLACK WIDOW/NATASHA ',\n",
       " 'CITIZEN V II/HELMUT ',\n",
       " 'SILVERCLAW/LA GARRA ',\n",
       " 'RICHARDS, FRANKLINK ',\n",
       " 'BLOODSTORM | MUTANT ',\n",
       " 'ROOSEVELT, FRANKLIN ',\n",
       " 'STUNT-MASTER/GEORGE ',\n",
       " 'JAMESON, COL. JOHN ',\n",
       " 'PINKERTON, PERCIVAL ',\n",
       " 'APOCALYPSE | MUTANT ',\n",
       " 'RADIOACTIVE MAN/DR. ',\n",
       " 'CORRIGAN, ARCHIBALD ',\n",
       " 'WARRIOR WOMAN/JULIA ',\n",
       " 'DR. DOOM/VICTOR VON ',\n",
       " 'LECLAIRE, PROFESSOR ',\n",
       " 'GARDENER/ORD ZYONYZ ',\n",
       " 'DR. SPECTRUM II/DR. ',\n",
       " 'DR. STRANGE/STEPHEN ',\n",
       " 'TUMBLER/JOHN ROBERT ',\n",
       " 'JARVIS, EDWIN ',\n",
       " 'FIREWALL/THEARY/MIN ',\n",
       " 'BLACK KNIGHT V/DANE ',\n",
       " 'RINGER/ANTHONY TONY ',\n",
       " 'IRON MAN/TONY STARK ',\n",
       " 'BRUTE/REED RICHARDS ',\n",
       " 'SPOOR/ANDREW HAMISH ',\n",
       " 'MACTAGGART, MOIRA | ',\n",
       " 'PROFESSOR ANGST/DR. ',\n",
       " 'CEREBRO MARK XIII | ',\n",
       " 'GAMBIT/REMY LEBEAU ',\n",
       " 'SENSATIONAL HYDRA/A ',\n",
       " 'GYRICH, HENRY PETER ',\n",
       " 'ARMBRUSTER, COLONEL ',\n",
       " 'STARSHINE II/BRANDY ',\n",
       " 'MAGNETO/MAGNUS/ERIC ',\n",
       " 'PILEDRIVER II/BRIAN ',\n",
       " 'FIREFALL III/ARCHIE ',\n",
       " 'PROFESSOR X | EARTH ',\n",
       " 'ANGELOPOULOS, ANGEL ',\n",
       " 'DARKOVER, PROFESSOR ',\n",
       " \"COAL TIGER/T'CHALLA \",\n",
       " 'CHI DEMON/PROFESSOR ',\n",
       " 'ROCKET RACER/ROBERT ',\n",
       " 'JEFFRIES, MAGGIE ',\n",
       " 'PROFESSOR X/CHARLES ',\n",
       " 'AGAMEMNON II/ANDREI ',\n",
       " 'AURORA/JEANNE-MARIE ',\n",
       " 'STRONG GUY | MUTANT ',\n",
       " 'NALES, DET. REBECCA ',\n",
       " 'APE MAN/GORDON MONK ',\n",
       " 'MANIKIN/DR. WHITMAN ',\n",
       " 'RAPTOR II/PROFESSOR ',\n",
       " 'ZEMO/BARON HEINRICH ',\n",
       " 'MARTINELLI, VINCENT ',\n",
       " 'BLACK KNIGHT II/SIR ',\n",
       " 'MARROW/SARAH ',\n",
       " 'ANDROMEDA/ANDROMEDA ',\n",
       " 'BUCHETTO, SALVATORE ',\n",
       " 'ROSSI, COL. MICHAEL ',\n",
       " 'GREY, JEAN | MUTANT ',\n",
       " 'APOCALYPSE/EN SABAH ',\n",
       " 'KLIGGER/SEN. EUGENE ',\n",
       " 'STINGRAY/DR. WALTER ',\n",
       " 'DOC SAMSON | MUTANT ',\n",
       " 'X-MAN/NATHAN GREY ',\n",
       " 'JACK OF HEARTS/JACK ',\n",
       " 'RITTER, DEBORAH ',\n",
       " 'ICEMAN/ROBERT BOBBY ',\n",
       " 'SHORT CIRCUIT/HENRY ',\n",
       " 'PURPLE MAN/ZEBEDIAH ',\n",
       " 'SABRETOOTH | MUTANT ',\n",
       " 'JUGGERNAUT | MUTANT ',\n",
       " 'FURY, COL. NICHOLAS ',\n",
       " 'COY, GENERAL NGUYEN ',\n",
       " 'BLACK TALON/DESMOND ',\n",
       " 'RED SKULL II/ALBERT ',\n",
       " 'SHADOWCAT/KATHERINE ',\n",
       " 'GHOST RIDER III/DAN ',\n",
       " 'RAYMOND, HENRY/ADAM ',\n",
       " 'EDWARDS, MARTIN/DR. ',\n",
       " 'BATTLEAXE II/JEROME ',\n",
       " 'UNION JACK II/BRIAN ',\n",
       " 'MAN-SPIDER | MUTANT ',\n",
       " 'VISION DOPPELGANGER ',\n",
       " 'WIND-WARRIOR/PAMELA ',\n",
       " 'OUTRIDER/OCLIN UWIR ',\n",
       " 'DEVERAUX, INSPECTOR ',\n",
       " 'CITYDWELLER/JERRY | ',\n",
       " 'MR. SINISTER/NATHAN ',\n",
       " 'MR. JUSTICE/TIMOTHY ',\n",
       " 'BLACK FOX/ROBERT W. ',\n",
       " 'UNION JACK III/JOEY ',\n",
       " 'WAR/ABRAHAM LINCOLN ',\n",
       " 'INVISIBLE WOMAN/SUE ',\n",
       " 'SCARLET WITCH/WANDA ',\n",
       " 'KILLER SHRIKE/SIMON ',\n",
       " 'GRIMM, BEN | MUTANT ',\n",
       " 'KILGREW, BASIL BETA ']"
      ]
     },
     "execution_count": 182,
     "metadata": {},
     "output_type": "execute_result"
    }
   ],
   "source": [
    "# Delete the words that don't have extra space from the differ list\n",
    "differInEdge2 = ['BLADE' , 'SABRE' , 'SPIDER-MAN/PETER PAR']\n",
    "for elem in differInEdge2:\n",
    "    differ.remove(elem)\n",
    "differ"
   ]
  },
  {
   "cell_type": "code",
   "execution_count": 183,
   "id": "9b015fc8",
   "metadata": {},
   "outputs": [],
   "source": [
    "# Deleting the extra space from the end of the some words in heroNetworkDf\n",
    "for col in heroNetworkDf.columns:\n",
    "    heroNetworkDf[col] = heroNetworkDf[col].apply(lambda x: x[0:-1] if x in differ else x)"
   ]
  },
  {
   "cell_type": "code",
   "execution_count": 40,
   "id": "c9fefa1f",
   "metadata": {},
   "outputs": [
    {
     "data": {
      "text/html": [
       "<div>\n",
       "<style scoped>\n",
       "    .dataframe tbody tr th:only-of-type {\n",
       "        vertical-align: middle;\n",
       "    }\n",
       "\n",
       "    .dataframe tbody tr th {\n",
       "        vertical-align: top;\n",
       "    }\n",
       "\n",
       "    .dataframe thead th {\n",
       "        text-align: right;\n",
       "    }\n",
       "</style>\n",
       "<table border=\"1\" class=\"dataframe\">\n",
       "  <thead>\n",
       "    <tr style=\"text-align: right;\">\n",
       "      <th></th>\n",
       "      <th>hero1</th>\n",
       "      <th>hero2</th>\n",
       "    </tr>\n",
       "  </thead>\n",
       "  <tbody>\n",
       "    <tr>\n",
       "      <th>0</th>\n",
       "      <td>LITTLE, ABNER</td>\n",
       "      <td>PRINCESS ZANDA</td>\n",
       "    </tr>\n",
       "    <tr>\n",
       "      <th>1</th>\n",
       "      <td>LITTLE, ABNER</td>\n",
       "      <td>BLACK PANTHER/T'CHAL</td>\n",
       "    </tr>\n",
       "    <tr>\n",
       "      <th>2</th>\n",
       "      <td>BLACK PANTHER/T'CHAL</td>\n",
       "      <td>PRINCESS ZANDA</td>\n",
       "    </tr>\n",
       "    <tr>\n",
       "      <th>3</th>\n",
       "      <td>LITTLE, ABNER</td>\n",
       "      <td>PRINCESS ZANDA</td>\n",
       "    </tr>\n",
       "    <tr>\n",
       "      <th>4</th>\n",
       "      <td>LITTLE, ABNER</td>\n",
       "      <td>BLACK PANTHER/T'CHAL</td>\n",
       "    </tr>\n",
       "  </tbody>\n",
       "</table>\n",
       "</div>"
      ],
      "text/plain": [
       "                  hero1                 hero2\n",
       "0         LITTLE, ABNER        PRINCESS ZANDA\n",
       "1         LITTLE, ABNER  BLACK PANTHER/T'CHAL\n",
       "2  BLACK PANTHER/T'CHAL        PRINCESS ZANDA\n",
       "3         LITTLE, ABNER        PRINCESS ZANDA\n",
       "4         LITTLE, ABNER  BLACK PANTHER/T'CHAL"
      ]
     },
     "execution_count": 40,
     "metadata": {},
     "output_type": "execute_result"
    }
   ],
   "source": [
    "heroNetworkDf.head()"
   ]
  },
  {
   "cell_type": "code",
   "execution_count": 184,
   "id": "1bf83a07",
   "metadata": {},
   "outputs": [],
   "source": [
    "# Cleaning edgesDf from the extra '/'\n",
    "edgesDf.hero = edgesDf.hero.apply(lambda x: x[0:-1] if x in [\"BLADE/\", \"SABRE/\"] else x)"
   ]
  },
  {
   "cell_type": "code",
   "execution_count": 185,
   "id": "195d16ad",
   "metadata": {},
   "outputs": [
    {
     "data": {
      "text/html": [
       "<div>\n",
       "<style scoped>\n",
       "    .dataframe tbody tr th:only-of-type {\n",
       "        vertical-align: middle;\n",
       "    }\n",
       "\n",
       "    .dataframe tbody tr th {\n",
       "        vertical-align: top;\n",
       "    }\n",
       "\n",
       "    .dataframe thead th {\n",
       "        text-align: right;\n",
       "    }\n",
       "</style>\n",
       "<table border=\"1\" class=\"dataframe\">\n",
       "  <thead>\n",
       "    <tr style=\"text-align: right;\">\n",
       "      <th></th>\n",
       "      <th>hero</th>\n",
       "      <th>comic</th>\n",
       "    </tr>\n",
       "  </thead>\n",
       "  <tbody>\n",
       "    <tr>\n",
       "      <th>8001</th>\n",
       "      <td>BLADE</td>\n",
       "      <td>AIF 24</td>\n",
       "    </tr>\n",
       "    <tr>\n",
       "      <th>8002</th>\n",
       "      <td>BLADE</td>\n",
       "      <td>BLADE</td>\n",
       "    </tr>\n",
       "    <tr>\n",
       "      <th>8003</th>\n",
       "      <td>BLADE</td>\n",
       "      <td>DRSTR2 61</td>\n",
       "    </tr>\n",
       "    <tr>\n",
       "      <th>8004</th>\n",
       "      <td>BLADE</td>\n",
       "      <td>DRSTR2 62</td>\n",
       "    </tr>\n",
       "    <tr>\n",
       "      <th>8005</th>\n",
       "      <td>BLADE</td>\n",
       "      <td>DRSTR2 67</td>\n",
       "    </tr>\n",
       "    <tr>\n",
       "      <th>8006</th>\n",
       "      <td>BLADE</td>\n",
       "      <td>GR3 31</td>\n",
       "    </tr>\n",
       "    <tr>\n",
       "      <th>8007</th>\n",
       "      <td>BLADE</td>\n",
       "      <td>M/CP 64/4</td>\n",
       "    </tr>\n",
       "    <tr>\n",
       "      <th>8008</th>\n",
       "      <td>BLADE</td>\n",
       "      <td>M/PRV 3</td>\n",
       "    </tr>\n",
       "    <tr>\n",
       "      <th>8009</th>\n",
       "      <td>BLADE</td>\n",
       "      <td>M/PRV 8/2</td>\n",
       "    </tr>\n",
       "    <tr>\n",
       "      <th>8010</th>\n",
       "      <td>BLADE</td>\n",
       "      <td>M/TU2 7</td>\n",
       "    </tr>\n",
       "    <tr>\n",
       "      <th>8011</th>\n",
       "      <td>BLADE</td>\n",
       "      <td>NS 1</td>\n",
       "    </tr>\n",
       "    <tr>\n",
       "      <th>8012</th>\n",
       "      <td>BLADE</td>\n",
       "      <td>NS 2</td>\n",
       "    </tr>\n",
       "    <tr>\n",
       "      <th>8013</th>\n",
       "      <td>BLADE</td>\n",
       "      <td>PPSM2 7</td>\n",
       "    </tr>\n",
       "    <tr>\n",
       "      <th>8014</th>\n",
       "      <td>BLADE</td>\n",
       "      <td>PPSM2 8</td>\n",
       "    </tr>\n",
       "    <tr>\n",
       "      <th>8015</th>\n",
       "      <td>BLADE</td>\n",
       "      <td>TOD 10</td>\n",
       "    </tr>\n",
       "    <tr>\n",
       "      <th>8016</th>\n",
       "      <td>BLADE</td>\n",
       "      <td>TOD 12</td>\n",
       "    </tr>\n",
       "    <tr>\n",
       "      <th>8017</th>\n",
       "      <td>BLADE</td>\n",
       "      <td>TOD 13</td>\n",
       "    </tr>\n",
       "    <tr>\n",
       "      <th>8018</th>\n",
       "      <td>BLADE</td>\n",
       "      <td>TOD 14</td>\n",
       "    </tr>\n",
       "    <tr>\n",
       "      <th>8019</th>\n",
       "      <td>BLADE</td>\n",
       "      <td>TOD 17</td>\n",
       "    </tr>\n",
       "    <tr>\n",
       "      <th>8020</th>\n",
       "      <td>BLADE</td>\n",
       "      <td>TOD 19</td>\n",
       "    </tr>\n",
       "    <tr>\n",
       "      <th>8021</th>\n",
       "      <td>BLADE</td>\n",
       "      <td>TOD 21</td>\n",
       "    </tr>\n",
       "    <tr>\n",
       "      <th>8022</th>\n",
       "      <td>BLADE</td>\n",
       "      <td>TOD 24</td>\n",
       "    </tr>\n",
       "    <tr>\n",
       "      <th>8023</th>\n",
       "      <td>BLADE</td>\n",
       "      <td>TOD 28</td>\n",
       "    </tr>\n",
       "    <tr>\n",
       "      <th>8024</th>\n",
       "      <td>BLADE</td>\n",
       "      <td>TOD 30</td>\n",
       "    </tr>\n",
       "    <tr>\n",
       "      <th>8025</th>\n",
       "      <td>BLADE</td>\n",
       "      <td>TOD 41</td>\n",
       "    </tr>\n",
       "    <tr>\n",
       "      <th>8026</th>\n",
       "      <td>BLADE</td>\n",
       "      <td>TOD 42</td>\n",
       "    </tr>\n",
       "    <tr>\n",
       "      <th>8027</th>\n",
       "      <td>BLADE</td>\n",
       "      <td>TOD 43</td>\n",
       "    </tr>\n",
       "    <tr>\n",
       "      <th>8028</th>\n",
       "      <td>BLADE</td>\n",
       "      <td>TOD 44</td>\n",
       "    </tr>\n",
       "    <tr>\n",
       "      <th>8029</th>\n",
       "      <td>BLADE</td>\n",
       "      <td>TOD 45</td>\n",
       "    </tr>\n",
       "    <tr>\n",
       "      <th>8030</th>\n",
       "      <td>BLADE</td>\n",
       "      <td>TOD 46</td>\n",
       "    </tr>\n",
       "    <tr>\n",
       "      <th>8031</th>\n",
       "      <td>BLADE</td>\n",
       "      <td>TOD 47</td>\n",
       "    </tr>\n",
       "    <tr>\n",
       "      <th>8032</th>\n",
       "      <td>BLADE</td>\n",
       "      <td>TOD 48</td>\n",
       "    </tr>\n",
       "    <tr>\n",
       "      <th>8033</th>\n",
       "      <td>BLADE</td>\n",
       "      <td>TOD 49</td>\n",
       "    </tr>\n",
       "    <tr>\n",
       "      <th>8034</th>\n",
       "      <td>BLADE</td>\n",
       "      <td>TOD 50</td>\n",
       "    </tr>\n",
       "    <tr>\n",
       "      <th>8035</th>\n",
       "      <td>BLADE</td>\n",
       "      <td>TOD 51</td>\n",
       "    </tr>\n",
       "    <tr>\n",
       "      <th>8036</th>\n",
       "      <td>BLADE</td>\n",
       "      <td>TOD 53</td>\n",
       "    </tr>\n",
       "    <tr>\n",
       "      <th>8037</th>\n",
       "      <td>BLADE</td>\n",
       "      <td>TOD 54</td>\n",
       "    </tr>\n",
       "    <tr>\n",
       "      <th>8038</th>\n",
       "      <td>BLADE</td>\n",
       "      <td>TOD 58</td>\n",
       "    </tr>\n",
       "    <tr>\n",
       "      <th>8039</th>\n",
       "      <td>BLADE</td>\n",
       "      <td>TOD 60</td>\n",
       "    </tr>\n",
       "    <tr>\n",
       "      <th>8040</th>\n",
       "      <td>BLADE</td>\n",
       "      <td>TOD 61</td>\n",
       "    </tr>\n",
       "    <tr>\n",
       "      <th>8041</th>\n",
       "      <td>BLADE</td>\n",
       "      <td>VT 8/4</td>\n",
       "    </tr>\n",
       "    <tr>\n",
       "      <th>8042</th>\n",
       "      <td>BLADE</td>\n",
       "      <td>VT 9</td>\n",
       "    </tr>\n",
       "  </tbody>\n",
       "</table>\n",
       "</div>"
      ],
      "text/plain": [
       "       hero      comic\n",
       "8001  BLADE     AIF 24\n",
       "8002  BLADE      BLADE\n",
       "8003  BLADE  DRSTR2 61\n",
       "8004  BLADE  DRSTR2 62\n",
       "8005  BLADE  DRSTR2 67\n",
       "8006  BLADE     GR3 31\n",
       "8007  BLADE  M/CP 64/4\n",
       "8008  BLADE    M/PRV 3\n",
       "8009  BLADE  M/PRV 8/2\n",
       "8010  BLADE    M/TU2 7\n",
       "8011  BLADE       NS 1\n",
       "8012  BLADE       NS 2\n",
       "8013  BLADE    PPSM2 7\n",
       "8014  BLADE    PPSM2 8\n",
       "8015  BLADE     TOD 10\n",
       "8016  BLADE     TOD 12\n",
       "8017  BLADE     TOD 13\n",
       "8018  BLADE     TOD 14\n",
       "8019  BLADE     TOD 17\n",
       "8020  BLADE     TOD 19\n",
       "8021  BLADE     TOD 21\n",
       "8022  BLADE     TOD 24\n",
       "8023  BLADE     TOD 28\n",
       "8024  BLADE     TOD 30\n",
       "8025  BLADE     TOD 41\n",
       "8026  BLADE     TOD 42\n",
       "8027  BLADE     TOD 43\n",
       "8028  BLADE     TOD 44\n",
       "8029  BLADE     TOD 45\n",
       "8030  BLADE     TOD 46\n",
       "8031  BLADE     TOD 47\n",
       "8032  BLADE     TOD 48\n",
       "8033  BLADE     TOD 49\n",
       "8034  BLADE     TOD 50\n",
       "8035  BLADE     TOD 51\n",
       "8036  BLADE     TOD 53\n",
       "8037  BLADE     TOD 54\n",
       "8038  BLADE     TOD 58\n",
       "8039  BLADE     TOD 60\n",
       "8040  BLADE     TOD 61\n",
       "8041  BLADE     VT 8/4\n",
       "8042  BLADE       VT 9"
      ]
     },
     "execution_count": 185,
     "metadata": {},
     "output_type": "execute_result"
    }
   ],
   "source": [
    "edgesDf[edgesDf.hero==\"BLADE\"]"
   ]
  },
  {
   "cell_type": "code",
   "execution_count": 186,
   "id": "4ac6ac8f",
   "metadata": {},
   "outputs": [],
   "source": [
    "# Fix the name 'SPIDER-MAN/PETER PAR' in 'hero-network.csv'\n",
    "for col in heroNetworkDf.columns:\n",
    "        heroNetworkDf[col] = heroNetworkDf[col].apply(lambda x: 'SPIDER-MAN/PETER PARKER' if x=='SPIDER-MAN/PETER PAR' else x)"
   ]
  },
  {
   "cell_type": "code",
   "execution_count": 187,
   "id": "dc19cd74",
   "metadata": {},
   "outputs": [
    {
     "data": {
      "text/plain": [
       "[]"
      ]
     },
     "execution_count": 187,
     "metadata": {},
     "output_type": "execute_result"
    }
   ],
   "source": [
    "# Check if there is any differences between the hero's names in 2 files\n",
    "merge = heroNetworkDf.hero1.tolist() + heroNetworkDf.hero2.tolist()\n",
    "unique2 = list(set(merge))\n",
    "differ2 = compare(unique2, list(edgesDf.hero))\n",
    "differ2"
   ]
  },
  {
   "cell_type": "code",
   "execution_count": 111,
   "id": "f6e8310f",
   "metadata": {},
   "outputs": [],
   "source": [
    "# Save the modified version of edges file as csv\n",
    "edgesDf.to_csv(os.getcwd()+\"/Data/edgesModified.csv\", index=False , header = True)"
   ]
  },
  {
   "cell_type": "code",
   "execution_count": 13,
   "id": "a81098ae",
   "metadata": {},
   "outputs": [],
   "source": [
    "edgesDf = pd.read_csv(os.getcwd()+\"/Data/edgesModified.csv\")"
   ]
  },
  {
   "cell_type": "markdown",
   "id": "958f2a86",
   "metadata": {},
   "source": [
    "As we can see, we got the blank list from the compare function. It means all tree reasons that caused inconsistency were fixed."
   ]
  },
  {
   "cell_type": "markdown",
   "id": "c22ad4e1",
   "metadata": {},
   "source": [
    "#### 2. Some entries in the 'hero-network.csv' have the same hero in both columns. We will handle it in the following codes:"
   ]
  },
  {
   "cell_type": "code",
   "execution_count": 188,
   "id": "062467a7",
   "metadata": {},
   "outputs": [],
   "source": [
    "# Delete the rows that have the same hero in both columns\n",
    "heroNetworkDf = heroNetworkDf[heroNetworkDf.hero1!=heroNetworkDf.hero2] "
   ]
  },
  {
   "cell_type": "code",
   "execution_count": 189,
   "id": "75bb38c4",
   "metadata": {},
   "outputs": [],
   "source": [
    "# Save the modified heroNetworkDF as csv files\n",
    "heroNetworkDf.to_csv(os.getcwd()+\"/Data/heroNetworkModified.csv\", index=False , header = True)"
   ]
  },
  {
   "cell_type": "code",
   "execution_count": null,
   "id": "b25fbd15",
   "metadata": {},
   "outputs": [],
   "source": [
    "# Save the modified heroNetworkDF as csv file\n",
    "heroNetworkDf.to_csv(os.getcwd()+\"/Data/heroNetworkModified.csv\", index=False , header = True)"
   ]
  },
  {
   "cell_type": "code",
   "execution_count": 2,
   "id": "054a877b",
   "metadata": {},
   "outputs": [],
   "source": [
    "# Read the modified file\n",
    "heroNetworkModified = pd.read_csv(os.getcwd()+\"/Data/heroNetworkModified.csv\")"
   ]
  },
  {
   "cell_type": "code",
   "execution_count": 3,
   "id": "f34a992b",
   "metadata": {
    "scrolled": true
   },
   "outputs": [],
   "source": [
    "# Convert the modified file to the csv\n",
    "heroNetworkDfModified = pd.DataFrame(heroNetworkModified)"
   ]
  },
  {
   "cell_type": "markdown",
   "id": "f711bfe8",
   "metadata": {},
   "source": [
    "### Making Graphs"
   ]
  },
  {
   "cell_type": "markdown",
   "id": "709a7d88",
   "metadata": {},
   "source": [
    "#### 1.First Graph"
   ]
  },
  {
   "attachments": {},
   "cell_type": "markdown",
   "id": "f2c3f6d9",
   "metadata": {},
   "source": [
    "For each pair of nodes (ie for each edge), we have two attributes :\n",
    "1. capicity : number of links between the two nodes (necessary for functionality 4)\n",
    "2. weight : 1/capicity "
   ]
  },
  {
   "cell_type": "code",
   "execution_count": 4,
   "id": "8469e453",
   "metadata": {},
   "outputs": [
    {
     "data": {
      "text/html": [
       "<div>\n",
       "<style scoped>\n",
       "    .dataframe tbody tr th:only-of-type {\n",
       "        vertical-align: middle;\n",
       "    }\n",
       "\n",
       "    .dataframe tbody tr th {\n",
       "        vertical-align: top;\n",
       "    }\n",
       "\n",
       "    .dataframe thead th {\n",
       "        text-align: right;\n",
       "    }\n",
       "</style>\n",
       "<table border=\"1\" class=\"dataframe\">\n",
       "  <thead>\n",
       "    <tr style=\"text-align: right;\">\n",
       "      <th></th>\n",
       "      <th>hero1</th>\n",
       "      <th>hero2</th>\n",
       "      <th>capacity</th>\n",
       "      <th>weight</th>\n",
       "    </tr>\n",
       "  </thead>\n",
       "  <tbody>\n",
       "    <tr>\n",
       "      <th>0</th>\n",
       "      <td>24-HOUR MAN/EMMANUEL</td>\n",
       "      <td>FROST, CARMILLA</td>\n",
       "      <td>1</td>\n",
       "      <td>1.0</td>\n",
       "    </tr>\n",
       "    <tr>\n",
       "      <th>1</th>\n",
       "      <td>24-HOUR MAN/EMMANUEL</td>\n",
       "      <td>KILLRAVEN/JONATHAN R</td>\n",
       "      <td>1</td>\n",
       "      <td>1.0</td>\n",
       "    </tr>\n",
       "    <tr>\n",
       "      <th>2</th>\n",
       "      <td>24-HOUR MAN/EMMANUEL</td>\n",
       "      <td>M'SHULLA</td>\n",
       "      <td>1</td>\n",
       "      <td>1.0</td>\n",
       "    </tr>\n",
       "    <tr>\n",
       "      <th>3</th>\n",
       "      <td>3-D MAN/CHARLES CHAN</td>\n",
       "      <td>ANGEL/WARREN KENNETH</td>\n",
       "      <td>1</td>\n",
       "      <td>1.0</td>\n",
       "    </tr>\n",
       "    <tr>\n",
       "      <th>4</th>\n",
       "      <td>3-D MAN/CHARLES CHAN</td>\n",
       "      <td>ANT-MAN II/SCOTT HAR</td>\n",
       "      <td>1</td>\n",
       "      <td>1.0</td>\n",
       "    </tr>\n",
       "    <tr>\n",
       "      <th>...</th>\n",
       "      <td>...</td>\n",
       "      <td>...</td>\n",
       "      <td>...</td>\n",
       "      <td>...</td>\n",
       "    </tr>\n",
       "    <tr>\n",
       "      <th>224094</th>\n",
       "      <td>ZZZAX</td>\n",
       "      <td>RODRIGUEZ, DEBRA</td>\n",
       "      <td>1</td>\n",
       "      <td>1.0</td>\n",
       "    </tr>\n",
       "    <tr>\n",
       "      <th>224095</th>\n",
       "      <td>ZZZAX</td>\n",
       "      <td>ROSS, GEN. THADDEUS</td>\n",
       "      <td>2</td>\n",
       "      <td>0.5</td>\n",
       "    </tr>\n",
       "    <tr>\n",
       "      <th>224096</th>\n",
       "      <td>ZZZAX</td>\n",
       "      <td>SUMMERS, NATHAN CHRI</td>\n",
       "      <td>1</td>\n",
       "      <td>1.0</td>\n",
       "    </tr>\n",
       "    <tr>\n",
       "      <th>224097</th>\n",
       "      <td>ZZZAX</td>\n",
       "      <td>TIGRA/GREER NELSON</td>\n",
       "      <td>1</td>\n",
       "      <td>1.0</td>\n",
       "    </tr>\n",
       "    <tr>\n",
       "      <th>224098</th>\n",
       "      <td>ZZZAX</td>\n",
       "      <td>WONDER MAN/SIMON WIL</td>\n",
       "      <td>1</td>\n",
       "      <td>1.0</td>\n",
       "    </tr>\n",
       "  </tbody>\n",
       "</table>\n",
       "<p>224099 rows × 4 columns</p>\n",
       "</div>"
      ],
      "text/plain": [
       "                       hero1                 hero2  capacity  weight\n",
       "0       24-HOUR MAN/EMMANUEL       FROST, CARMILLA         1     1.0\n",
       "1       24-HOUR MAN/EMMANUEL  KILLRAVEN/JONATHAN R         1     1.0\n",
       "2       24-HOUR MAN/EMMANUEL              M'SHULLA         1     1.0\n",
       "3       3-D MAN/CHARLES CHAN  ANGEL/WARREN KENNETH         1     1.0\n",
       "4       3-D MAN/CHARLES CHAN  ANT-MAN II/SCOTT HAR         1     1.0\n",
       "...                      ...                   ...       ...     ...\n",
       "224094                 ZZZAX      RODRIGUEZ, DEBRA         1     1.0\n",
       "224095                 ZZZAX   ROSS, GEN. THADDEUS         2     0.5\n",
       "224096                 ZZZAX  SUMMERS, NATHAN CHRI         1     1.0\n",
       "224097                 ZZZAX    TIGRA/GREER NELSON         1     1.0\n",
       "224098                 ZZZAX  WONDER MAN/SIMON WIL         1     1.0\n",
       "\n",
       "[224099 rows x 4 columns]"
      ]
     },
     "execution_count": 4,
     "metadata": {},
     "output_type": "execute_result"
    }
   ],
   "source": [
    "full_df_size = heroNetworkDfModified.groupby(['hero1', 'hero2'], as_index=False).size()\n",
    "\n",
    "full_df_size = full_df_size.rename(columns={'size':'capacity'})\n",
    "\n",
    "full_df_size['weight'] = 1/full_df_size['capacity']\n",
    "\n",
    "full_df_size"
   ]
  },
  {
   "cell_type": "code",
   "execution_count": 5,
   "id": "6711dd5d",
   "metadata": {},
   "outputs": [],
   "source": [
    "# Making the first weighted and undirected graph from the heroNetworkDfModified data\n",
    "GHeroNet = nx.from_pandas_edgelist(full_df_size, source='hero1', target='hero2', edge_attr=['weight', 'capacity'], \n",
    "                                   create_using=nx.MultiGraph(), edge_key=None)\n",
    "                                "
   ]
  },
  {
   "attachments": {},
   "cell_type": "markdown",
   "id": "6198ded9",
   "metadata": {},
   "source": [
    "We can notice that for each pair of nodes, we can have two different lists of attributes on some edges :"
   ]
  },
  {
   "cell_type": "code",
   "execution_count": 244,
   "id": "6acf48bb",
   "metadata": {},
   "outputs": [
    {
     "data": {
      "text/plain": [
       "{0: {'weight': 1.0, 'capacity': 1}, 1: {'weight': 0.5, 'capacity': 2}}"
      ]
     },
     "execution_count": 244,
     "metadata": {},
     "output_type": "execute_result"
    }
   ],
   "source": [
    "GHeroNet.get_edge_data('ABRAXAS','FROST, CARMILLA')"
   ]
  },
  {
   "cell_type": "code",
   "execution_count": 27,
   "id": "c5de4544",
   "metadata": {},
   "outputs": [
    {
     "data": {
      "text/plain": [
       "{0: {'weight': 1.0, 'capacity': 1}, 1: {'weight': 0.5, 'capacity': 2}}"
      ]
     },
     "execution_count": 27,
     "metadata": {},
     "output_type": "execute_result"
    }
   ],
   "source": [
    "GHeroNet.get_edge_data('FROST, CARMILLA','ABRAXAS')"
   ]
  },
  {
   "attachments": {},
   "cell_type": "markdown",
   "id": "7438cf95",
   "metadata": {},
   "source": [
    "This is because each pair of nodes was not necessarily added in the dataset each time in the same order.\n",
    "For example, if in a comic A, we have SpiderMan and CaptainAmerica and this pair is added with SpiderMan as hero1 and CaptainAmerica as hero2. Then, we can have a comic B where they reappear together and this time the pair will be added with CaptainAmerica in hero1 and SpiderMan in hero2."
   ]
  },
  {
   "attachments": {},
   "cell_type": "markdown",
   "id": "966940a7",
   "metadata": {},
   "source": [
    "Let's recreate this undirected graph in order to have only one edge between each pair of nodes. Also, we want to recalculate capacities and weights for each edge to have only one correct value."
   ]
  },
  {
   "cell_type": "code",
   "execution_count": 33,
   "id": "9aaaa7a9",
   "metadata": {},
   "outputs": [
    {
     "name": "stderr",
     "output_type": "stream",
     "text": [
      "100%|██████████| 224099/224099 [00:00<00:00, 299593.62it/s]\n"
     ]
    }
   ],
   "source": [
    "G_heroes = nx.Graph()\n",
    "\n",
    "for edge in tqdm(GHeroNet.edges) :\n",
    "    if edge[2] == 0 :\n",
    "        links_dico_values = GHeroNet.get_edge_data(edge[0], edge[1]).values()\n",
    "        total_capacity = 0\n",
    "        for values in links_dico_values :\n",
    "            total_capacity += values['capacity']\n",
    "        total_weight = 1/total_capacity\n",
    "        G_heroes.add_edge(edge[0], edge[1], weight=total_weight, capacity=total_capacity)\n"
   ]
  },
  {
   "attachments": {},
   "cell_type": "markdown",
   "id": "6b3b65cc",
   "metadata": {},
   "source": [
    "We can see that now we have attributes only one time for each edge. So, the weights are corrects now."
   ]
  },
  {
   "cell_type": "code",
   "execution_count": 37,
   "id": "9f8bb1bc",
   "metadata": {},
   "outputs": [
    {
     "data": {
      "text/plain": [
       "{'weight': 0.3333333333333333, 'capacity': 3}"
      ]
     },
     "execution_count": 37,
     "metadata": {},
     "output_type": "execute_result"
    }
   ],
   "source": [
    "G_heroes.get_edge_data('ABRAXAS','FROST, CARMILLA')"
   ]
  },
  {
   "cell_type": "code",
   "execution_count": 55,
   "id": "b1868be0",
   "metadata": {},
   "outputs": [],
   "source": [
    "# Make a list of weight, this list shows us how many edges exist between each two nodes(heros). Also, the number of edges\n",
    "# between two heroes represents the number of times they have collaborated in different comics.\n",
    "lenght = len(heroNetworkDfModified)\n",
    "weights = []\n",
    "for i in range(0,lenght):\n",
    "    weightOfTwoNodes= GHeroNet.number_of_edges(heroNetworkDfModified.hero1[i],heroNetworkDfModified.hero2[i])\n",
    "    weights.append(weightOfTwoNodes)\n",
    "nx.set_edge_attributes(GHeroNet, values = weights, name = 'weight')"
   ]
  },
  {
   "cell_type": "markdown",
   "id": "3e8ae01f",
   "metadata": {},
   "source": [
    "#### 2.Second Graph"
   ]
  },
  {
   "cell_type": "code",
   "execution_count": 6,
   "id": "1b6c3aaa",
   "metadata": {},
   "outputs": [],
   "source": [
    "# Making the second unweighted and undirected graph with 'nodes.csv' and 'edgesModified.csv' data\n",
    "# First we have to prepare and read the needed data\n",
    "# Read the edgesModified data and convert it to a dataframe\n",
    "edgesModified = pd.read_csv(os.getcwd()+\"/Data/edgesModified.csv\")"
   ]
  },
  {
   "cell_type": "code",
   "execution_count": 7,
   "id": "7ad169bf",
   "metadata": {},
   "outputs": [],
   "source": [
    "edgesDfModified = pd.DataFrame(edgesModified)"
   ]
  },
  {
   "cell_type": "code",
   "execution_count": 18,
   "id": "ee69fa30",
   "metadata": {},
   "outputs": [],
   "source": [
    "# Read the nodes.csv file\n",
    "nodes = pd.read_csv('./Data/nodes.csv')"
   ]
  },
  {
   "cell_type": "code",
   "execution_count": 19,
   "id": "f356a367",
   "metadata": {},
   "outputs": [],
   "source": [
    "# Convert the nodes.csv data to a dataframe\n",
    "nodesDf = pd.DataFrame(nodes)"
   ]
  },
  {
   "cell_type": "code",
   "execution_count": 182,
   "id": "fa8fa4b1",
   "metadata": {},
   "outputs": [],
   "source": [
    "# By examining the nodesDf dataset, we understood that in this dataset there are some heros'name that are differenet from their \n",
    "# name in the edges dataset. So we are going to handle it.\n",
    "nodesDf.node = nodesDf.node.apply(lambda x: x[0:-1] if x in [\"BLADE/\", \"SABRE/\"] else x)"
   ]
  },
  {
   "cell_type": "code",
   "execution_count": 183,
   "id": "2752ece5",
   "metadata": {},
   "outputs": [
    {
     "data": {
      "text/html": [
       "<div>\n",
       "<style scoped>\n",
       "    .dataframe tbody tr th:only-of-type {\n",
       "        vertical-align: middle;\n",
       "    }\n",
       "\n",
       "    .dataframe tbody tr th {\n",
       "        vertical-align: top;\n",
       "    }\n",
       "\n",
       "    .dataframe thead th {\n",
       "        text-align: right;\n",
       "    }\n",
       "</style>\n",
       "<table border=\"1\" class=\"dataframe\">\n",
       "  <thead>\n",
       "    <tr style=\"text-align: right;\">\n",
       "      <th></th>\n",
       "      <th>node</th>\n",
       "      <th>type</th>\n",
       "    </tr>\n",
       "  </thead>\n",
       "  <tbody>\n",
       "    <tr>\n",
       "      <th>13704</th>\n",
       "      <td>SABRE</td>\n",
       "      <td>comic</td>\n",
       "    </tr>\n",
       "    <tr>\n",
       "      <th>13705</th>\n",
       "      <td>SABRE</td>\n",
       "      <td>hero</td>\n",
       "    </tr>\n",
       "  </tbody>\n",
       "</table>\n",
       "</div>"
      ],
      "text/plain": [
       "        node   type\n",
       "13704  SABRE  comic\n",
       "13705  SABRE   hero"
      ]
     },
     "execution_count": 183,
     "metadata": {},
     "output_type": "execute_result"
    }
   ],
   "source": [
    "# Check\n",
    "nodesDf[nodesDf.node == \"SABRE\"]"
   ]
  },
  {
   "cell_type": "code",
   "execution_count": 184,
   "id": "9bb00748",
   "metadata": {},
   "outputs": [],
   "source": [
    "# Save the modified version of the nodes data\n",
    "nodesDf.to_csv(r'./Data/nodesModified.csv', index=False , header = True)"
   ]
  },
  {
   "cell_type": "markdown",
   "id": "05a52f44",
   "metadata": {},
   "source": [
    "## 2. Backend Implementation"
   ]
  },
  {
   "attachments": {},
   "cell_type": "markdown",
   "id": "fadb5a92",
   "metadata": {},
   "source": [
    "We first define the Controller System and the function to get the top N heroes (based on the number of comics in which they appear)."
   ]
  },
  {
   "cell_type": "code",
   "execution_count": 8,
   "id": "4f0517e4",
   "metadata": {},
   "outputs": [],
   "source": [
    "def getTopNHeroes(N, df_edges) :\n",
    "    groupby_hero = df_edges.groupby('hero')\n",
    "\n",
    "    comics_per_hero = dict()\n",
    "\n",
    "    for hero in groupby_hero.indices.keys() :\n",
    "        df_hero = groupby_hero.get_group(hero)\n",
    "        comics_per_hero[hero] = len(set(df_hero.comic))\n",
    "        \n",
    "    return [hero for (hero,value) in sorted(comics_per_hero.items(), key=lambda x:x[1], reverse=True)][:N]\n",
    "\n",
    "# The controller system takes in input some variable arguments because the functionalities don't have the same arguments.\n",
    "# It gets the N top heroes and compute the subgraph related to those heroes.\n",
    "# Then, it calls the desired functionnality.\n",
    "def ControllerSystem(i, G, N=0, **kwargs) :\n",
    "    if N!= 0 :\n",
    "        top_n_heroes = getTopNHeroes(N, edgesDf)\n",
    "        graph = G.subgraph(top_n_heroes)\n",
    "    return globals()['function_'+str(i)](graph, N, **kwargs)"
   ]
  },
  {
   "attachments": {},
   "cell_type": "markdown",
   "id": "c5b15cd3",
   "metadata": {},
   "source": [
    "Example of top 10 heroes :"
   ]
  },
  {
   "cell_type": "code",
   "execution_count": 9,
   "id": "38c40094",
   "metadata": {},
   "outputs": [
    {
     "data": {
      "text/plain": [
       "['SPIDER-MAN/PETER PARKER',\n",
       " 'CAPTAIN AMERICA',\n",
       " 'IRON MAN/TONY STARK',\n",
       " 'THING/BENJAMIN J. GR',\n",
       " 'THOR/DR. DONALD BLAK',\n",
       " 'HUMAN TORCH/JOHNNY S',\n",
       " 'MR. FANTASTIC/REED R',\n",
       " 'HULK/DR. ROBERT BRUC',\n",
       " 'WOLVERINE/LOGAN',\n",
       " 'INVISIBLE WOMAN/SUE']"
      ]
     },
     "execution_count": 9,
     "metadata": {},
     "output_type": "execute_result"
    }
   ],
   "source": [
    "getTopNHeroes(10, edgesModified)"
   ]
  },
  {
   "cell_type": "markdown",
   "id": "7bbe717b",
   "metadata": {},
   "source": [
    "### Functionality 1 - extract the graph's features"
   ]
  },
  {
   "cell_type": "code",
   "execution_count": null,
   "id": "ef3907d4",
   "metadata": {},
   "outputs": [],
   "source": []
  },
  {
   "cell_type": "code",
   "execution_count": null,
   "id": "ef628fc1",
   "metadata": {},
   "outputs": [],
   "source": []
  },
  {
   "cell_type": "code",
   "execution_count": null,
   "id": "9e2c3b2f",
   "metadata": {},
   "outputs": [],
   "source": []
  },
  {
   "cell_type": "code",
   "execution_count": null,
   "id": "3a0be419",
   "metadata": {},
   "outputs": [],
   "source": []
  },
  {
   "attachments": {},
   "cell_type": "markdown",
   "id": "494544f0",
   "metadata": {},
   "source": [
    "### Functionality 4 - Disconneted Graphs"
   ]
  },
  {
   "cell_type": "code",
   "execution_count": 45,
   "id": "08f8289b",
   "metadata": {},
   "outputs": [],
   "source": [
    "def function_4(G, N=0, **kwargs):\n",
    "    \n",
    "    min_n_links, (subsetA, subsetB) = nx.minimum_cut(G, kwargs['heroA'], kwargs['heroB'], capacity='capacity')\n",
    "\n",
    "    return min_n_links, G.subgraph(list(subsetA)), G.subgraph(list(subsetB))"
   ]
  },
  {
   "cell_type": "code",
   "execution_count": 46,
   "id": "3f0b0b28",
   "metadata": {},
   "outputs": [
    {
     "data": {
      "text/plain": [
       "2051"
      ]
     },
     "execution_count": 46,
     "metadata": {},
     "output_type": "execute_result"
    }
   ],
   "source": [
    "min_n_links, subsetA, subsetB = ControllerSystem(4, G_heroes, 20, heroA='IRON MAN/TONY STARK', heroB='SPIDER-MAN/PETER PARKER')\n",
    "min_n_links"
   ]
  },
  {
   "cell_type": "code",
   "execution_count": 47,
   "id": "2e1c92c4",
   "metadata": {},
   "outputs": [
    {
     "data": {
      "text/plain": [
       "'Graph with 17 nodes and 136 edges'"
      ]
     },
     "execution_count": 47,
     "metadata": {},
     "output_type": "execute_result"
    }
   ],
   "source": [
    "nx.info(subsetA)"
   ]
  },
  {
   "cell_type": "code",
   "execution_count": 48,
   "id": "235a0923",
   "metadata": {},
   "outputs": [
    {
     "data": {
      "image/png": "[encoded data removed]",
      "text/plain": [
       "<Figure size 432x288 with 1 Axes>"
      ]
     },
     "metadata": {},
     "output_type": "display_data"
    }
   ],
   "source": [
    "plt.clf()\n",
    "nx.draw(subsetA, with_labels=True)\n",
    "plt.show()"
   ]
  },
  {
   "cell_type": "code",
   "execution_count": 49,
   "id": "093f05de",
   "metadata": {},
   "outputs": [
    {
     "data": {
      "text/plain": [
       "'Graph with 3 nodes and 3 edges'"
      ]
     },
     "execution_count": 49,
     "metadata": {},
     "output_type": "execute_result"
    }
   ],
   "source": [
    "nx.info(subsetB)"
   ]
  },
  {
   "cell_type": "code",
   "execution_count": 50,
   "id": "000dbbcd",
   "metadata": {},
   "outputs": [
    {
     "data": {
      "image/png": "[encoded data removed]",
      "text/plain": [
       "<Figure size 432x288 with 1 Axes>"
      ]
     },
     "metadata": {},
     "output_type": "display_data"
    }
   ],
   "source": [
    "plt.clf()\n",
    "nx.draw(subsetB, with_labels=True)\n",
    "plt.show()"
   ]
  },
  {
   "attachments": {},
   "cell_type": "markdown",
   "id": "94ec8be6",
   "metadata": {},
   "source": [
    "### Functionality 5 - Extracting Communities"
   ]
  },
  {
   "cell_type": "code",
   "execution_count": 10,
   "id": "e051f7a5",
   "metadata": {},
   "outputs": [],
   "source": [
    "# remove the node with highest EBC score from the graph\n",
    "def removeEdge(graph):\n",
    "\t# We use capacity attribute of edges here as weight because we want heroes that are mostly together in comics to be in the same community\n",
    "\tG_dict = nx.edge_betweenness_centrality(graph, weight='capacity')\n",
    "\n",
    "\tedge = sorted(G_dict.items(), key=lambda item: item[1], reverse = True)[0][0]\n",
    "\tgraph.remove_edge(edge[0], edge[1])\n",
    "\n",
    "\treturn graph\n",
    "\n",
    "# we remove nodes with highest EBC score until we have only one connected component\n",
    "def girvanNewman(graph):\n",
    "\tnConnectedComponents = nx.number_connected_components(graph)\n",
    "\tmin_edges = 0\n",
    "\n",
    "\twhile(nConnectedComponents == 1):\n",
    "\t\tgraph = removeEdge(graph.copy())\n",
    "\t\tnConnectedComponents = nx.number_connected_components(graph)\n",
    "\t\tmin_edges += 1\n",
    "\n",
    "\treturn graph, min_edges\n",
    "\n",
    "# function_5 takes in input some variable arguments in kwargs that must contain Hero_1 and Hero2 values\n",
    "def function_5(G, N=0, **kwargs) :\n",
    "\n",
    "\t# we use divise method with Girvan Newman algorithm to extract communities from the graph\n",
    "\tG, min_edges = girvanNewman(G)\n",
    "\n",
    "\t# we extract the communities of the new graph\n",
    "\tcommunities = []\n",
    "\tconnectedComponents = nx.connected_components(G)\n",
    "\tfor community in connectedComponents :\n",
    "\t\tcommunities.append(community)\n",
    "\n",
    "\t# we check if hero1 and hero2 are in a same community\n",
    "\tsame_community = False\n",
    "\tfor community in communities :\n",
    "\t\tif kwargs['Hero_1'] in community and kwargs['Hero_2'] in community :\n",
    "\t\t\tsame_community = True\n",
    "\n",
    "\treturn min_edges, communities, same_community\n"
   ]
  },
  {
   "cell_type": "code",
   "execution_count": 39,
   "id": "2e88cd86",
   "metadata": {},
   "outputs": [],
   "source": [
    "min_edges, communities, same_community = ControllerSystem(5, G_heroes, 50, Hero_1='PUNISHER II/FRANK CA', Hero_2='HULK/DR. ROBERT BRUC')"
   ]
  },
  {
   "cell_type": "code",
   "execution_count": 40,
   "id": "30b0c6fd",
   "metadata": {},
   "outputs": [
    {
     "data": {
      "text/plain": [
       "False"
      ]
     },
     "execution_count": 40,
     "metadata": {},
     "output_type": "execute_result"
    }
   ],
   "source": [
    "same_community"
   ]
  },
  {
   "cell_type": "code",
   "execution_count": 41,
   "id": "00187909",
   "metadata": {},
   "outputs": [
    {
     "data": {
      "text/plain": [
       "327"
      ]
     },
     "execution_count": 41,
     "metadata": {},
     "output_type": "execute_result"
    }
   ],
   "source": [
    "min_edges"
   ]
  },
  {
   "cell_type": "code",
   "execution_count": 42,
   "id": "1da1726b",
   "metadata": {},
   "outputs": [
    {
     "data": {
      "text/plain": [
       "2"
      ]
     },
     "execution_count": 42,
     "metadata": {},
     "output_type": "execute_result"
    }
   ],
   "source": [
    "len(communities)"
   ]
  },
  {
   "cell_type": "code",
   "execution_count": 43,
   "id": "e82fb7b1",
   "metadata": {},
   "outputs": [
    {
     "data": {
      "text/plain": [
       "[{'ANGEL/WARREN KENNETH',\n",
       "  'ANT-MAN/DR. HENRY J.',\n",
       "  'BEAST/HENRY &HANK& P',\n",
       "  \"BLACK PANTHER/T'CHAL\",\n",
       "  'BLACK WIDOW/NATASHA',\n",
       "  'CANNONBALL II/SAM GU',\n",
       "  'CAPTAIN AMERICA',\n",
       "  'CAPTAIN BRITAIN/BRIA',\n",
       "  'COLOSSUS II/PETER RA',\n",
       "  'CYCLOPS/SCOTT SUMMER',\n",
       "  'DAREDEVIL/MATT MURDO',\n",
       "  'DR. DOOM/VICTOR VON',\n",
       "  'DR. STRANGE/STEPHEN',\n",
       "  'FURY, COL. NICHOLAS',\n",
       "  'HAWK',\n",
       "  'HERCULES [GREEK GOD]',\n",
       "  'HULK/DR. ROBERT BRUC',\n",
       "  'HUMAN TORCH/JOHNNY S',\n",
       "  'ICEMAN/ROBERT BOBBY',\n",
       "  'INVISIBLE WOMAN/SUE',\n",
       "  'IRON MAN/TONY STARK',\n",
       "  'JAMESON, J. JONAH',\n",
       "  'JARVIS, EDWIN',\n",
       "  'JONES, RICHARD MILHO',\n",
       "  'MARVEL GIRL/JEAN GRE',\n",
       "  'MR. FANTASTIC/REED R',\n",
       "  'NELSON, FRANKLIN FOG',\n",
       "  'NIGHTCRAWLER/KURT WA',\n",
       "  'ODIN [ASGARDIAN]',\n",
       "  'PARKER, MAY',\n",
       "  'PROFESSOR X/CHARLES',\n",
       "  'QUICKSILVER/PIETRO M',\n",
       "  'RICHARDS, FRANKLIN B',\n",
       "  'ROBERTSON, JOE',\n",
       "  'ROGUE /',\n",
       "  'SCARLET WITCH/WANDA',\n",
       "  'SHADOWCAT/KATHERINE',\n",
       "  'SHE-HULK/JENNIFER WA',\n",
       "  'SILVER SURFER/NORRIN',\n",
       "  'SPIDER-MAN/PETER PARKER',\n",
       "  'STORM/ORORO MUNROE S',\n",
       "  'SUB-MARINER/NAMOR MA',\n",
       "  'THING/BENJAMIN J. GR',\n",
       "  'THOR/DR. DONALD BLAK',\n",
       "  'VISION',\n",
       "  'WASP/JANET VAN DYNE',\n",
       "  'WATSON-PARKER, MARY',\n",
       "  'WOLVERINE/LOGAN',\n",
       "  'WONDER MAN/SIMON WIL'},\n",
       " {'PUNISHER II/FRANK CA'}]"
      ]
     },
     "execution_count": 43,
     "metadata": {},
     "output_type": "execute_result"
    }
   ],
   "source": [
    "communities"
   ]
  },
  {
   "cell_type": "code",
   "execution_count": null,
   "id": "d09ab0a6",
   "metadata": {},
   "outputs": [],
   "source": []
  }
 ],
 "metadata": {
  "kernelspec": {
   "display_name": "base",
   "language": "python",
   "name": "python3"
  },
  "language_info": {
   "codemirror_mode": {
    "name": "ipython",
    "version": 3
   },
   "file_extension": ".py",
   "mimetype": "text/x-python",
   "name": "python",
   "nbconvert_exporter": "python",
   "pygments_lexer": "ipython3",
   "version": "3.8.8"
  },
  "vscode": {
   "interpreter": {
    "hash": "a677b9c6974bf760ca3b8e2af46be3b9e8de7ec986fefdffccea221189f77b6f"
   }
  }
 },
 "nbformat": 4,
 "nbformat_minor": 5
}
